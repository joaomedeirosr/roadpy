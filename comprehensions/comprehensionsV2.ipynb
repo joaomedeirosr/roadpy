{
 "cells": [
  {
   "cell_type": "markdown",
   "metadata": {},
   "source": [
    "## List, dict and set comprehensions\n",
    "\n",
    "O Python, natsdasdivamente suporte expressoes especiais que permitem a criacao compacta de listas, dicionários e conjuntos. Estas expressoes especiais sao chamadas de comprehensions (\"compressoes\") e portanto temos:\n",
    "\n",
    "- list comprehension\n",
    "- dict comprehension\n",
    "- set comprehension\n",
    "\n",
    "Essas expressoes nao apenas permitem a criacao de objetos mais compactos, mas também os criam mais rapidamente. Embora para se trabalhar com essas expressoes exija um certo hábito de uso pois no comeco pode gerar certa estranheza, no fim é uma ótima ideia utilizar dessas expressoes e em muito códigos desenvolvedores utilizam largamente essas expressoes\n",
    "\n",
    "Vamos inicialmente abordar a **list comprehension**\n",
    "\n",
    "### Compreensoes de lista (List)\n",
    "\n",
    "As compressoes de lista sao expressoes construídas da seguinte forma:\n",
    "\n",
    "```python\n",
    "<lista_nova> = [<iterador> for iterador in <lista_a_ser_comprimida>]\n",
    "\n",
    "                                            OU\n",
    "\n",
    "<lista_nova> = [<iterador> for iterador in <lista_a_ser_comprimida> if <alguma_condicao>]\n",
    "```\n",
    "\n",
    "OBS: Bem como uma livre interpretacao grosseira, as list comprehension faz o seguinte:\n",
    "\n",
    "lista_objetivo(nova lista) = [valor (expressao) `for` iterador do for tem que ser igual (expressao) `in` lista_antiga(alguma lista)]"
   ]
  },
  {
   "cell_type": "code",
   "execution_count": 2,
   "metadata": {},
   "outputs": [
    {
     "name": "stdout",
     "output_type": "stream",
     "text": [
      "[10, 11, 12, 13, 14, 15]\n"
     ]
    }
   ],
   "source": [
    "value = [num for num in range(10,16)]\n",
    "print(value)"
   ]
  },
  {
   "cell_type": "markdown",
   "metadata": {},
   "source": [
    "Como podemos ver em geral, a list comprehension é uma expressao que converte um objeto iterável em uma lista. Ou seja, uma sequência de elementos que é convertida e adicionada em uma nova lista, que tem o mesmo resultado que a seguinte expressao abaixo:"
   ]
  },
  {
   "cell_type": "code",
   "execution_count": 3,
   "metadata": {},
   "outputs": [
    {
     "name": "stdout",
     "output_type": "stream",
     "text": [
      "[10, 11, 12, 13, 14, 15]\n"
     ]
    }
   ],
   "source": [
    "numbers = []\n",
    "\n",
    "for num in range(10,16):\n",
    "    numbers.append(num)\n",
    "\n",
    "print(numbers)"
   ]
  },
  {
   "cell_type": "markdown",
   "metadata": {},
   "source": [
    "Ou seja, o que podemos observar é que a list comprehension, faz o que o próprio nome diz, ela comprime uma expressao, podendo ser um for por exemplo ou até mesmo outra expressao como um if por exemplo.\n",
    "\n",
    "Nas compressoes de lista voce pode usar a palavra reservada `if`. Assim, o usuário pode adicionar alguns objetos á lista, e dar mais funcionalidade a compressao.\n",
    "Por exemplo, vamos o seguinte problema prático:\n",
    "\n",
    "1. Tenho uma lista de items e nesta lista temos embaralhado tanto números quanto caracteres\n",
    "\n",
    "2. E eu gostaria de consultar essa lista e selecionar apenas os elementos que sao números e armazená-los em uma nova lista chamada `only_digits`\n",
    "\n",
    "<br>\n",
    "\n",
    "Vamos aplicar entao este problema:"
   ]
  },
  {
   "cell_type": "code",
   "execution_count": 4,
   "metadata": {},
   "outputs": [
    {
     "name": "stdout",
     "output_type": "stream",
     "text": [
      "['10', '20', '30', '40']\n"
     ]
    }
   ],
   "source": [
    "items = ['10','20','a','30','b','40']\n",
    "\n",
    "# Lista vaiza que receberá apenas os elementos numéricos\n",
    "only_digits = []\n",
    "\n",
    "for item in items:\n",
    "    if item.isdigit():\n",
    "        only_digits.append(item)\n",
    "\n",
    "print(only_digits)"
   ]
  },
  {
   "cell_type": "markdown",
   "metadata": {},
   "source": [
    "Veja que funcionou perfeitamente conseguimentos fazer um Loop `for` que varreu a lista procurou pelos elementos númericos e o adicionou em uma nova lista e posteriormente imprimiu na tela esta lista. \n",
    "\n",
    "Entretanto, com a list comprehension podemos fazer isso de uma maneira muito mais simples veja:\n",
    "\n"
   ]
  },
  {
   "cell_type": "code",
   "execution_count": 5,
   "metadata": {},
   "outputs": [
    {
     "name": "stdout",
     "output_type": "stream",
     "text": [
      "[10, 20, 30, 40]\n"
     ]
    }
   ],
   "source": [
    "items = ['10','20','a','30','b','40']\n",
    "\n",
    "only_digits = [int(i) for i in items if i.isdigit()]\n",
    "print(only_digits)"
   ]
  },
  {
   "cell_type": "markdown",
   "metadata": {},
   "source": [
    "Veja que agora foi possível resolver o problema dos elementos embaralhados mas apenas com uma única linha.\n",
    "\n",
    "Mas um ponto a se atentar é que nem todos os loops, ou expressoes podem ser reescritos como uma **list comprehension**. Mas se for possível reescrever o loop ou a expressao em formato de **list comprehension** sem que torne a expressao mais complexa é sempre uma boa prática \n",
    "entao optar por utilizar a **list comprehension**\n",
    "\n",
    "#### Observacao:\n",
    "No Python, as compressoes de lista normalmente podem substituir algumas funcoes de filtro e mapa e sao consideradas uma opcao mais clara.\n",
    "\n",
    "\n"
   ]
  },
  {
   "cell_type": "markdown",
   "metadata": {},
   "source": [
    "### Compreensoes de listas aninhadas\n",
    "\n",
    "Em alguns casos teremos listas dentro de listas, ou seja, em diversos cenários teremos de lidar com listas aninhadas, e assim como fazemos compressoes de listas únicas, é possível também fazer list comprehension de listas aninhadas de maneira bem análoga ao já feito veja:\n",
    "\n"
   ]
  },
  {
   "cell_type": "code",
   "execution_count": 6,
   "metadata": {},
   "outputs": [],
   "source": [
    "numeros = [[10 , 21 , 35] , [101 , 115 , 150] , [111 , 40 , 50]]"
   ]
  },
  {
   "cell_type": "markdown",
   "metadata": {},
   "source": [
    "Tendo a lista aninhada acima vamos transformá-la em apenas uma única lista simples.\n",
    "\n"
   ]
  },
  {
   "cell_type": "code",
   "execution_count": 7,
   "metadata": {},
   "outputs": [
    {
     "name": "stdout",
     "output_type": "stream",
     "text": [
      "[10, 21, 35, 101, 115, 150, 111, 40, 50]\n"
     ]
    }
   ],
   "source": [
    "lista_simples = []\n",
    "\n",
    "for i in numeros:\n",
    "    for ii in i:\n",
    "        lista_simples.append(ii)\n",
    "\n",
    "print(lista_simples)\n"
   ]
  },
  {
   "cell_type": "markdown",
   "metadata": {},
   "source": [
    "Veja que a forma acima é uma forma mais extensa de se transformar a lista aninhada em uma lista simples, agora vamos tentar reescrever esta expressao acima em formato de **list comprehesion**:\n"
   ]
  },
  {
   "cell_type": "code",
   "execution_count": 8,
   "metadata": {},
   "outputs": [
    {
     "name": "stdout",
     "output_type": "stream",
     "text": [
      "[10, 21, 35, 101, 115, 150, 111, 40, 50]\n"
     ]
    }
   ],
   "source": [
    "numeros = [[10 , 21 , 35] , [101 , 115 , 150] , [111 , 40 , 50]]\n",
    "\n",
    "lista_alvo = [iterador for iterador in numeros for iterador in iterador]\n",
    "\n",
    "print(lista_alvo)"
   ]
  },
  {
   "cell_type": "markdown",
   "metadata": {},
   "source": [
    "### Conclusao:\n",
    "\n",
    "Veja que entao é possível escrever **list comprehesion** até mesmo para listas aninhadas. \n",
    "\n",
    "Entretanto, o mais interessente de observar é o que foi feito no último exemplo onde é possível ver que \"nao importa muito os nomes das variaveis dentro da list comprehension\" pois é possível perceber que ele segue uma estrutura, respeita uma ordem e nos dá o mesmo resultado."
   ]
  },
  {
   "cell_type": "markdown",
   "metadata": {},
   "source": [
    "### Compreensoes de Dicionários (Dict)\n",
    "\n",
    "As compreensoes de Dicionários sao semelhantes ás compreensoes de lista, mas um pouco diferente normalmente ao utilizar dict comprehension é com o objetivo de \"cria dicionários novos\" por exemplo veja:\n"
   ]
  },
  {
   "cell_type": "code",
   "execution_count": 9,
   "metadata": {},
   "outputs": [
    {
     "name": "stdout",
     "output_type": "stream",
     "text": [
      "{1: 1, 2: 4, 3: 9, 4: 16, 5: 25, 6: 36, 7: 49, 8: 64, 9: 81, 10: 100}\n"
     ]
    }
   ],
   "source": [
    "d = {}\n",
    "\n",
    "for num in range(1,11):\n",
    "    d[num] = num**2\n",
    "\n",
    "print(d)"
   ]
  },
  {
   "cell_type": "markdown",
   "metadata": {},
   "source": [
    "Agora, vamos tentar reescrever a expressao acima utilzando a dict comprehension:\n",
    "\n",
    "Lembre-se que como mecionado no ínicio do tópico de dict comprehension, normalmente o objetivo de se utilizar dict comprehension é com a finalidade de criar novos dicionários e é juntamente o que temos abaixo:"
   ]
  },
  {
   "cell_type": "code",
   "execution_count": 11,
   "metadata": {},
   "outputs": [
    {
     "name": "stdout",
     "output_type": "stream",
     "text": [
      "{1: 1, 2: 4, 3: 9, 4: 16, 5: 25, 6: 36, 7: 49, 8: 64, 9: 81, 10: 100}\n"
     ]
    }
   ],
   "source": [
    "new_d = {num: num**2 for num in range(1,11)}\n",
    "print(new_d)"
   ]
  },
  {
   "cell_type": "markdown",
   "metadata": {},
   "source": [
    "Veja que temos estamos criando um novo dicionário `new_d`, outro aspecto a se observar é que analogamente a list comprehesion, o as dict comprehension também seguem uma estrutura de construcao da expressao da seguinte forma:\n",
    "\n",
    "```bash\n",
    "    novo_dicionario = {<chave/expressao>: <valor/expressao> `for` iterador `in` <dict/expressao>} \n",
    "```"
   ]
  },
  {
   "cell_type": "markdown",
   "metadata": {},
   "source": [
    "Um outro exemplo do uso do dict comprehension é quando por exemplo tenho um dicionário python e quero converter todas as keys, como sendo strings minúsculas.\n",
    "\n",
    "Para ficar mais facil o entendimento vamos primeiramente utilizar loops for e depois reescrever na estrutura de dict comprehension Veja:\n"
   ]
  },
  {
   "cell_type": "code",
   "execution_count": 13,
   "metadata": {},
   "outputs": [
    {
     "name": "stdout",
     "output_type": "stream",
     "text": [
      "{'ios': '15.4', 'ip': '10.255.0.1', 'hostname': 'london_r1', 'location': '21 New Globe Walk', 'model': '4451', 'vendor': 'Cisco'}\n"
     ]
    }
   ],
   "source": [
    "r1 = {\n",
    "    'IOS': '15.4',\n",
    "    'IP': '10.255.0.1',\n",
    "    'Hostname': 'london_r1',\n",
    "    'Location': '21 New Globe Walk',\n",
    "    'Model': '4451',\n",
    "    'Vendor': 'Cisco'}\n",
    "\n",
    "\n",
    "dict_minusculo = {}\n",
    "\n",
    "\n",
    "for key, value in r1.items():\n",
    "    dict_minusculo[key.lower()] = value\n",
    "\n",
    "print(dict_minusculo)"
   ]
  },
  {
   "cell_type": "markdown",
   "metadata": {},
   "source": [
    "Veja que todas as lestras que eram maiusculas do dicionario `r1` se tornaram minúsculas.\n",
    "\n",
    "Vamos agora reescrever a expressao acima em formato de dict comprehension"
   ]
  },
  {
   "cell_type": "code",
   "execution_count": 14,
   "metadata": {},
   "outputs": [
    {
     "name": "stdout",
     "output_type": "stream",
     "text": [
      "{'ios': '15.4', 'ip': '10.255.0.1', 'hostname': 'london_r1', 'location': '21 New Globe Walk', 'model': '4451', 'vendor': 'Cisco'}\n"
     ]
    }
   ],
   "source": [
    "r1 = {\n",
    "    'IOS': '15.4',\n",
    "    'IP': '10.255.0.1',\n",
    "    'Hostname': 'london_r1',\n",
    "    'Location': '21 New Globe Walk',\n",
    "    'Model': '4451',\n",
    "    'Vendor': 'Cisco'}\n",
    "\n",
    "dict_minusculo = {key.lower(): value for key,value in r1.items()}\n",
    "print(dict_minusculo)"
   ]
  },
  {
   "cell_type": "markdown",
   "metadata": {},
   "source": [
    "### Compreensoes de conjuntos (Set):\n",
    "\n",
    "Por fim, as compreensões de conjuntos são geralmente semelhantes às compreensões de lista e dicionários pois recebe os `{}` do dict, mas respeita e estrutura das list comprehension veja:"
   ]
  },
  {
   "cell_type": "code",
   "execution_count": 16,
   "metadata": {},
   "outputs": [
    {
     "name": "stdout",
     "output_type": "stream",
     "text": [
      "{56, 10, 30}\n"
     ]
    }
   ],
   "source": [
    "valores = [10, '30', 30, 10, '56']\n",
    "\n",
    "valores_selecionados = {int(valor) for valor in valores}\n",
    "print(valores_selecionados)"
   ]
  },
  {
   "cell_type": "markdown",
   "metadata": {},
   "source": [
    "### Exemplos de fixacao\n",
    "\n",
    "Compreensoes de Listas\n",
    "\n",
    "1) Crie uma list comprehension que vai pegar um número x vai elevar ao quadrado e após fazer este procedimento irá retornar uma nova lista de número elevados ao quadrado"
   ]
  },
  {
   "cell_type": "code",
   "execution_count": 17,
   "metadata": {},
   "outputs": [
    {
     "name": "stdout",
     "output_type": "stream",
     "text": [
      "[0, 1, 4, 9, 16, 25, 36, 49, 64, 81]\n"
     ]
    }
   ],
   "source": [
    "lista_quadrado = [(x_i * x_i) for x_i in range(10)]\n",
    "print(lista_quadrado)"
   ]
  },
  {
   "cell_type": "markdown",
   "metadata": {},
   "source": [
    "2) Crie uma list comprehension que irá a partir de uma lista pré determinada de números, e nesta lista de números irá filtrar apenas os números impares e os retornará em uma nova lista chamada num_impares."
   ]
  },
  {
   "cell_type": "code",
   "execution_count": 18,
   "metadata": {},
   "outputs": [
    {
     "name": "stdout",
     "output_type": "stream",
     "text": [
      "[1, 3, 5, 7, 17, 33, 15]\n"
     ]
    }
   ],
   "source": [
    "lista = [1,2,3,4,5,6,7,8,10,22,17,33,15,12,40]\n",
    "\n",
    "num_impares = [impar for impar in lista if impar %2 != 0]\n",
    "print(num_impares)"
   ]
  },
  {
   "cell_type": "markdown",
   "metadata": {},
   "source": [
    "3) Crie uma list comprehension que irá a partir de uma variavel chamado frase contendo uma sequencia de caracteres que pegue esta string e transforme todas elas em letras maiusculas e retorne em uma nova lista chama `lista_de_maiusculass`"
   ]
  },
  {
   "cell_type": "code",
   "execution_count": 25,
   "metadata": {},
   "outputs": [
    {
     "name": "stdout",
     "output_type": "stream",
     "text": [
      "['O', 'L', 'Á', ',', ' ', 'M', 'U', 'N', 'D', 'O', '!']\n"
     ]
    }
   ],
   "source": [
    "frase = \"olá, mundo!\"\n",
    "\n",
    "lista_de_maiusculas = [letra for letra in frase.upper()]\n",
    "print(lista_de_maiusculas)"
   ]
  },
  {
   "cell_type": "markdown",
   "metadata": {},
   "source": [
    "Compreensoes de Dicionário\n",
    "\n",
    "1) Crie uma dict comprehesions que pega cria um dicionaro com 10 pares chave,valor e eleva os valores ao cubo para cada chave existente deste dicionário"
   ]
  },
  {
   "cell_type": "code",
   "execution_count": 28,
   "metadata": {},
   "outputs": [
    {
     "name": "stdout",
     "output_type": "stream",
     "text": [
      "{0: 0, 1: 1, 2: 8, 3: 27, 4: 64, 5: 125, 6: 216, 7: 343, 8: 512, 9: 729}\n"
     ]
    }
   ],
   "source": [
    "new_d = {x: x**3 for x in range(10)}\n",
    "print(new_d)"
   ]
  },
  {
   "cell_type": "markdown",
   "metadata": {},
   "source": [
    "2) Criando um dicionario com letras como chaves e suas posicoes na string"
   ]
  },
  {
   "cell_type": "code",
   "execution_count": null,
   "metadata": {},
   "outputs": [],
   "source": [
    "\"\"\"\n",
    " \n",
    " Escrever código aqui\n",
    "\n",
    " \"\"\""
   ]
  },
  {
   "cell_type": "markdown",
   "metadata": {},
   "source": [
    "3) Crie um dicionário com palavras únicas de uma lista e suas contagens:"
   ]
  },
  {
   "cell_type": "code",
   "execution_count": null,
   "metadata": {},
   "outputs": [],
   "source": [
    "\"\"\"\n",
    " \n",
    " Escrever código aqui\n",
    "\n",
    " \"\"\""
   ]
  },
  {
   "cell_type": "markdown",
   "metadata": {},
   "source": [
    "Compreensoes de Conjuntos\n",
    "\n",
    "1) Criando um conjunto de números ao quadrado de 1 a 20:"
   ]
  },
  {
   "cell_type": "code",
   "execution_count": null,
   "metadata": {},
   "outputs": [],
   "source": [
    "\"\"\"\n",
    " \n",
    " Escrever código aqui\n",
    "\n",
    " \"\"\""
   ]
  },
  {
   "cell_type": "markdown",
   "metadata": {},
   "source": [
    "2) Criando um conjunto de letras únicas de duas strings"
   ]
  },
  {
   "cell_type": "code",
   "execution_count": null,
   "metadata": {},
   "outputs": [],
   "source": [
    "\"\"\"\n",
    " \n",
    " Escrever código aqui\n",
    "\n",
    " \"\"\""
   ]
  },
  {
   "cell_type": "markdown",
   "metadata": {},
   "source": [
    "3) Crie um conjunto que tem a diferenca entre dois conjuntos diferentes"
   ]
  },
  {
   "cell_type": "code",
   "execution_count": null,
   "metadata": {},
   "outputs": [],
   "source": [
    "\"\"\"\n",
    "Escrever código aqui\n",
    "\n",
    "\"\"\""
   ]
  }
 ],
 "metadata": {
  "kernelspec": {
   "display_name": "unicamp-ds",
   "language": "python",
   "name": "python3"
  },
  "language_info": {
   "codemirror_mode": {
    "name": "ipython",
    "version": 3
   },
   "file_extension": ".py",
   "mimetype": "text/x-python",
   "name": "python",
   "nbconvert_exporter": "python",
   "pygments_lexer": "ipython3",
   "version": "3.9.-1"
  }
 },
 "nbformat": 4,
 "nbformat_minor": 2
}
